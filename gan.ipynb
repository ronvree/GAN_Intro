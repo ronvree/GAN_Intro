{
 "cells": [
  {
   "cell_type": "code",
   "execution_count": null,
   "metadata": {},
   "outputs": [],
   "source": []
  },
  {
   "cell_type": "code",
   "execution_count": null,
   "metadata": {},
   "outputs": [],
   "source": [
    "import numpy as np\n",
    "import keras as ks\n",
    "import matplotlib.pyplot as plt\n",
    "\n",
    "%matplotlib inline"
   ]
  },
  {
   "cell_type": "markdown",
   "metadata": {},
   "source": [
    "The aim of generative adversarial networks is to obtain an estimation of the distribution $p_{data}$ over data $\\textbf{x}$ using two competing neural networks. A generative model $G$ attempts to capture the data distribution, allowing it to create fake data points. A discriminative model $D$ obtains both fake samples from $G$ and real data samples and aims to estimate the probability that the sample is a real data point rather than obtained from $G$."
   ]
  },
  {
   "cell_type": "markdown",
   "metadata": {},
   "source": [
    "Let's define a distribution $p_{data}$ to approximate:"
   ]
  },
  {
   "cell_type": "code",
   "execution_count": null,
   "metadata": {},
   "outputs": [],
   "source": [
    "n = 1000  # Sample size\n",
    "\n",
    "# Gaussian distribution with mean of 4 and standard deviation of 1.25\n",
    "# Let x denote the number of data points that are sampled\n",
    "p_data = lambda x: np.random.normal(loc=4, scale=1.25, size=(x, n))\n",
    "\n",
    "\n",
    "def show_distribution(p):\n",
    "    plt.hist(np.ravel(p(100)), bins=64)\n",
    "    plt.show()\n",
    "    \n",
    "\n",
    "def show_distributions(ps, ls):\n",
    "    assert len(ps) == len(ls)\n",
    "    for p, l in zip(ps, ls):\n",
    "        plt.hist(np.ravel(p(100)), bins=64, label=l)\n",
    "    plt.legend()\n",
    "    plt.show()\n",
    "\n",
    "        \n",
    "\n",
    "show_distribution(p_data)\n"
   ]
  },
  {
   "cell_type": "markdown",
   "metadata": {},
   "source": [
    "To learn the generator's distribution $p_g$ over data $\\textbf{x}$ a prior input noise variable $p_z(\\textbf{z})$ is defined which is mapped to the data space by $G(\\textbf{z};\\theta_g)$, where $G$ is a differential function (neural network in this case) with parameters $\\theta_g$. A second model $D(\\textbf{x};\\theta_d)$ represents the probability that $\\textbf{x}$ came from the data distribution rather than $p_g$."
   ]
  },
  {
   "cell_type": "code",
   "execution_count": null,
   "metadata": {},
   "outputs": [],
   "source": [
    "G = ks.models.Sequential()\n",
    "G.add(ks.layers.Dense(50, activation='elu', input_shape=(n,)))\n",
    "G.add(ks.layers.Dense(50, activation='elu'))\n",
    "G.add(ks.layers.Dense(n, activation='linear'))\n",
    "G.compile(optimizer='SGD',\n",
    "          loss='binary_crossentropy')\n",
    "\n",
    "D = ks.models.Sequential()\n",
    "D.add(ks.layers.Dense(50, activation='elu', input_shape=(n,)))\n",
    "D.add(ks.layers.Dense(50, activation='elu'))\n",
    "D.add(ks.layers.Dense(1, activation='sigmoid'))\n",
    "D.compile(optimizer='SGD',\n",
    "          loss='binary_crossentropy')"
   ]
  },
  {
   "cell_type": "markdown",
   "metadata": {},
   "source": [
    "$D$ is trained to maximize the probability of assigning the right label to the data samples. Simultaneously, $G$ is trained to maximize the probability of $D$ making a mistake. This results in the following minimax game with value function $V$:"
   ]
  },
  {
   "cell_type": "markdown",
   "metadata": {},
   "source": [
    "$\\DeclareMathOperator*{\\minimize}{\\textit{min}}$\n",
    "$\\DeclareMathOperator*{\\maximize}{\\textit{max}}$\n",
    "$$\n",
    "\\minimize_G \\maximize_D V(D,G)=\n",
    "\\mathbb{E}_{\\textbf{x} \\sim p_{data}(\\textbf{x})}[\\log D(\\textbf{x})] + \n",
    "\\mathbb{E}_{\\textbf{z} \\sim p_{\\textbf{z}}(\\textbf{z})}[\\log (1-D(G(\\textbf{z})))]\n",
    "$$"
   ]
  },
  {
   "cell_type": "code",
   "execution_count": null,
   "metadata": {},
   "outputs": [],
   "source": [
    "\n",
    "# During the training of G both models are used. For convenience, a combined model is defined (using the same model instances)\n",
    "D.trainable = False  # Make sure D is not trained when using the combined model. (This only has effect when a model is compiled)\n",
    "\n",
    "input_layer = ks.layers.Input(shape=(n,))\n",
    "DG = ks.models.Model(input_layer, D(G(input_layer)))\n",
    "DG.compile(optimizer='SGD',\n",
    "           loss='binary_crossentropy')\n"
   ]
  },
  {
   "cell_type": "markdown",
   "metadata": {},
   "source": [
    "The paper describes the following training procedure:  \n",
    "\n",
    "![train procedure](train_procedure.png)\n",
    "\n",
    "Which is implemented below"
   ]
  },
  {
   "cell_type": "code",
   "execution_count": null,
   "metadata": {},
   "outputs": [],
   "source": [
    "m = 100\n",
    "\n",
    "num_train_iter = 10000\n",
    "num_d_train_iter = 1\n",
    "\n",
    "verbosity = 0\n",
    "\n",
    "# The noise prior p_z is chosen to be uniform\n",
    "# Let x denote the number of noise samples to obtain\n",
    "p_z = lambda x: np.random.uniform(size=(x, n))\n",
    "\n",
    "p_g = lambda x: G.predict(p_z(x))\n",
    "\n",
    "for i in range(num_train_iter):\n",
    "    if (i % 10) == 0:\n",
    "        show_distributions([p_data, p_g], ['p_data', 'p_g'])\n",
    "\n",
    "    for k in range(num_d_train_iter):\n",
    "        # Sample minibatch of m noise samples {z_1,..,z_m} from noise prior p_g(z)\n",
    "        zs = p_g(m)\n",
    "        # Sample minibatch of m examples {x_1,..,..x_m} from data generating distribution p_data(x)\n",
    "        ds = p_data(m)\n",
    "        # Update the discriminator using SGD\n",
    "        D.model.fit(zs, np.zeros(m), verbose=verbosity)\n",
    "        D.model.fit(ds, np.ones(m), verbose=verbosity)\n",
    "\n",
    "    # Sample minibatch of m noise samples {z_1,..,z_m} from noise prior p_z(z)\n",
    "    zs = p_z(m)\n",
    "    # Update generator using SGD\n",
    "    DG.fit(zs, np.ones(m), verbose=verbosity)\n",
    "    \n",
    "    "
   ]
  },
  {
   "cell_type": "code",
   "execution_count": null,
   "metadata": {},
   "outputs": [],
   "source": []
  },
  {
   "cell_type": "code",
   "execution_count": null,
   "metadata": {},
   "outputs": [],
   "source": []
  },
  {
   "cell_type": "code",
   "execution_count": null,
   "metadata": {},
   "outputs": [],
   "source": []
  },
  {
   "cell_type": "code",
   "execution_count": null,
   "metadata": {},
   "outputs": [],
   "source": []
  },
  {
   "cell_type": "code",
   "execution_count": null,
   "metadata": {},
   "outputs": [],
   "source": []
  },
  {
   "cell_type": "code",
   "execution_count": null,
   "metadata": {},
   "outputs": [],
   "source": []
  },
  {
   "cell_type": "code",
   "execution_count": null,
   "metadata": {},
   "outputs": [],
   "source": []
  },
  {
   "cell_type": "code",
   "execution_count": null,
   "metadata": {},
   "outputs": [],
   "source": []
  },
  {
   "cell_type": "code",
   "execution_count": null,
   "metadata": {},
   "outputs": [],
   "source": []
  },
  {
   "cell_type": "code",
   "execution_count": null,
   "metadata": {},
   "outputs": [],
   "source": []
  },
  {
   "cell_type": "code",
   "execution_count": null,
   "metadata": {},
   "outputs": [],
   "source": []
  }
 ],
 "metadata": {
  "kernelspec": {
   "display_name": "Python 3",
   "language": "python",
   "name": "python3"
  },
  "language_info": {
   "codemirror_mode": {
    "name": "ipython",
    "version": 3
   },
   "file_extension": ".py",
   "mimetype": "text/x-python",
   "name": "python",
   "nbconvert_exporter": "python",
   "pygments_lexer": "ipython3",
   "version": "3.6.3"
  }
 },
 "nbformat": 4,
 "nbformat_minor": 1
}
